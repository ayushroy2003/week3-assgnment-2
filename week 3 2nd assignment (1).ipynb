{
 "cells": [
  {
   "cell_type": "markdown",
   "id": "84477aa7-463b-4cb9-b76b-24e469e977e1",
   "metadata": {},
   "source": [
    "Q1- Create a python program to sort the given list of tuples based on integer value using a lambda function.\n",
    "\n",
    "[('Sachin Tendulkar', 34357), ('Ricky Ponting', 27483), ('Jack Kallis', 25534), ('Virat Kohli', 24936)]\n",
    "\n",
    "ans - "
   ]
  },
  {
   "cell_type": "code",
   "execution_count": 5,
   "id": "208a211d-a02c-4fd0-8077-8249705dc56c",
   "metadata": {},
   "outputs": [
    {
     "name": "stdout",
     "output_type": "stream",
     "text": [
      "('Sachin Tendulkar', 34357)\n",
      "('Ricky Ponting', 27483)\n",
      "('Jack Kallis', 25534)\n",
      "('Virat Kohli', 24936)\n"
     ]
    }
   ],
   "source": [
    "given_data = [('Sachin Tendulkar', 34357), ('Ricky Ponting', 27483), ('Jack Kallis', 25534), ('Virat Kohli', 24936)]\n",
    "\n",
    "sorted_data = sorted(given_data, key=lambda x:x[1],reverse = True)\n",
    "\n",
    "for i in sorted_data:\n",
    "    print(i)"
   ]
  },
  {
   "cell_type": "markdown",
   "id": "724a992c-bd37-4b33-9b47-f9c56a6661fe",
   "metadata": {},
   "source": [
    "Q2. Write a Python Program to find the squares of all the numbers in the given list of integers using\n",
    "lambda and map functions.\n",
    "\n",
    "[1, 2, 3, 4, 5, 6, 7, 8, 9, 10]\n",
    "\n",
    "ans - "
   ]
  },
  {
   "cell_type": "code",
   "execution_count": 9,
   "id": "1116affe-01dd-42a0-ad8a-99296513e169",
   "metadata": {},
   "outputs": [
    {
     "name": "stdout",
     "output_type": "stream",
     "text": [
      "[1, 4, 9, 16, 25, 36, 49, 64, 81, 100]\n"
     ]
    }
   ],
   "source": [
    "given_list = [1, 2, 3, 4, 5, 6, 7, 8, 9, 10]\n",
    "\n",
    "square = list(map(lambda x:x**2,given_list))\n",
    "\n",
    "print(square)\n"
   ]
  },
  {
   "cell_type": "markdown",
   "id": "42885a57-cdda-4163-99fe-c9fc0900fa3d",
   "metadata": {},
   "source": [
    "Q3. Write a python program to convert the given list of integers into a tuple of strings. Use map and\n",
    "lambda functions\n",
    "\n",
    "\n",
    "Given String: [1, 2, 3, 4, 5, 6, 7, 8, 9, 10]\n",
    "\n",
    "Expected output: ('1', '2', '3', '4', '5', '6', '7', '8', '9', '10')\n",
    "\n",
    "ans - "
   ]
  },
  {
   "cell_type": "code",
   "execution_count": 14,
   "id": "47bf82d0-3012-420f-8236-fcd7ab8af114",
   "metadata": {},
   "outputs": [
    {
     "name": "stdout",
     "output_type": "stream",
     "text": [
      "('1', '2', '3', '4', '5', '6', '7', '8', '9', '10')\n"
     ]
    }
   ],
   "source": [
    "given_numbers =  [1, 2, 3, 4, 5, 6, 7, 8, 9, 10]\n",
    "\n",
    "string_tuple = tuple(map(lambda x: str(x),given_numbers))\n",
    "\n",
    "print(string_tuple)"
   ]
  },
  {
   "cell_type": "markdown",
   "id": "d496d069-72bf-4d6b-8711-0f340dcbfc65",
   "metadata": {},
   "source": [
    "Q4.\n",
    "\n",
    "Write a python program using reduce function to compute the product of a list containing numbers\n",
    "from 1 to 25.\n",
    "\n",
    "ans - "
   ]
  },
  {
   "cell_type": "code",
   "execution_count": 4,
   "id": "2483179a-dcd1-4cad-9c1c-e43d6f4f7c66",
   "metadata": {},
   "outputs": [
    {
     "name": "stdout",
     "output_type": "stream",
     "text": [
      "15511210043330985984000000\n"
     ]
    }
   ],
   "source": [
    "from functools import reduce\n",
    " \n",
    "numbers = list(range(1,26))\n",
    "\n",
    "product = reduce(lambda x,y: x*y , numbers)\n",
    "\n",
    "print(product)"
   ]
  },
  {
   "cell_type": "markdown",
   "id": "67ff6383-7bd5-4d1d-afcb-484753083b44",
   "metadata": {},
   "source": [
    "Q5.\n",
    "Write a python program to filter the numbers in a given list that are divisible by 2 and 3 using the\n",
    "filter function.\n",
    "\n",
    "[2, 3, 6, 9, 27, 60, 90, 120, 55, 46]\n",
    "\n",
    "ans - "
   ]
  },
  {
   "cell_type": "code",
   "execution_count": 7,
   "id": "30b34539-8ea1-4a4b-9fc8-cfb503da8036",
   "metadata": {},
   "outputs": [
    {
     "name": "stdout",
     "output_type": "stream",
     "text": [
      "[6, 60, 90, 120]\n"
     ]
    }
   ],
   "source": [
    "given_list_1 = [2, 3, 6, 9, 27, 60, 90, 120, 55, 46]\n",
    "\n",
    "def divisible_by_2_3(num):\n",
    "    return num % 2 == 0 and  num % 3 == 0\n",
    "\n",
    "filtered_no = list(filter(divisible_by_2_3 , given_list_1))\n",
    "\n",
    "print(filtered_no)\n",
    "                   \n"
   ]
  },
  {
   "cell_type": "markdown",
   "id": "23b2ab1d-35bc-4378-b306-a6780603b509",
   "metadata": {},
   "source": [
    "Q6.\n",
    "Write a python program to find palindromes in the given list of strings using lambda and filter\n",
    "function.\n",
    "\n",
    "['python', 'php', 'aba', 'radar', 'level']\n",
    "\n",
    "ans - "
   ]
  },
  {
   "cell_type": "code",
   "execution_count": 10,
   "id": "12739233-3aa5-4260-8452-72b6e3d2e13b",
   "metadata": {},
   "outputs": [
    {
     "name": "stdout",
     "output_type": "stream",
     "text": [
      "['php', 'aba', 'radar', 'level']\n"
     ]
    }
   ],
   "source": [
    "list_strings = ['python', 'php', 'aba', 'radar', 'level']\n",
    "\n",
    "palindromes  = filter(lambda s: s == s[::-1] , list_strings)\n",
    "\n",
    "\n",
    "print(list(palindromes))\n",
    "\n",
    "\n"
   ]
  },
  {
   "cell_type": "code",
   "execution_count": null,
   "id": "0bc7a76d-7996-4411-835f-6dec9632b59b",
   "metadata": {},
   "outputs": [],
   "source": []
  }
 ],
 "metadata": {
  "kernelspec": {
   "display_name": "Python 3 (ipykernel)",
   "language": "python",
   "name": "python3"
  },
  "language_info": {
   "codemirror_mode": {
    "name": "ipython",
    "version": 3
   },
   "file_extension": ".py",
   "mimetype": "text/x-python",
   "name": "python",
   "nbconvert_exporter": "python",
   "pygments_lexer": "ipython3",
   "version": "3.10.8"
  }
 },
 "nbformat": 4,
 "nbformat_minor": 5
}
